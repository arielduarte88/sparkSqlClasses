{
  "nbformat": 4,
  "nbformat_minor": 0,
  "metadata": {
    "colab": {
      "name": "Aula 4 - Mostrando como Funciona para os Alunos.ipynb",
      "provenance": [],
      "collapsed_sections": [],
      "toc_visible": true
    },
    "kernelspec": {
      "name": "python3",
      "display_name": "Python 3"
    }
  },
  "cells": [
    {
      "cell_type": "markdown",
      "metadata": {
        "id": "7ngE8db6piW_"
      },
      "source": [
        "**1 - Configurando o Spark no Python**\n",
        "\n",
        "Etapa responsável por realizar o Download e configuração do Apache Spark."
      ]
    },
    {
      "cell_type": "code",
      "metadata": {
        "id": "IrW5sVN1qcQ8",
        "colab": {
          "base_uri": "https://localhost:8080/"
        },
        "outputId": "3c13941b-a8e3-4b91-ca37-7bfd1fa94ce2"
      },
      "source": [
        "!ls \n",
        "!rm -rf *\n",
        "#Instacao e configuracao do Java 8\n",
        "!apt-get install openjdk-8-jdk-headless -qq > /dev/null\n",
        "#Download do Apache Spark\n",
        "!wget -q http://apache.osuosl.org/spark/spark-3.1.2/spark-3.1.2-bin-hadoop3.2.tgz\n",
        "#Descompatacao do Apache Spark\n",
        "!tar xf spark-3.1.2-bin-hadoop3.2.tgz\n",
        "#Instalacao do Findspark\n",
        "!pip install -q findspark"
      ],
      "execution_count": 7,
      "outputs": [
        {
          "output_type": "stream",
          "text": [
            "spark-3.1.2-bin-hadoop3.2  spark-3.1.2-bin-hadoop3.2.tgz\n"
          ],
          "name": "stdout"
        }
      ]
    },
    {
      "cell_type": "markdown",
      "metadata": {
        "id": "q5qt9EzIr7EC"
      },
      "source": [
        "**2 - Configurando o Ambiente**\n",
        "\n",
        "Etapa responsável por configurar o ambiente do Spark"
      ]
    },
    {
      "cell_type": "code",
      "metadata": {
        "id": "w-Je7w5hsHUv"
      },
      "source": [
        "import os\n",
        "os.environ[\"JAVA_HOME\"] = \"/usr/lib/jvm/java-8-openjdk-amd64\"\n",
        "os.environ[\"SPARK_HOME\"] = \"/content/spark-3.1.2-bin-hadoop3.2\""
      ],
      "execution_count": 8,
      "outputs": []
    },
    {
      "cell_type": "markdown",
      "metadata": {
        "id": "8fM2wYcPseoa"
      },
      "source": [
        "**3 - Configurando a sessão do Spark**\n",
        "\n",
        "Etapa responsável por inicializar a sessão do Spark"
      ]
    },
    {
      "cell_type": "code",
      "metadata": {
        "id": "4m86_v1Isqo1"
      },
      "source": [
        "import findspark\n",
        "findspark.init()\n",
        "from pyspark.sql import SparkSession\n",
        "spark = SparkSession.builder.master(\"local[*]\").getOrCreate()"
      ],
      "execution_count": 9,
      "outputs": []
    },
    {
      "cell_type": "markdown",
      "metadata": {
        "id": "sGR0NhUms_tW"
      },
      "source": [
        "**4 - Validando a Configuração e Versão do Spark**\n",
        "\n",
        "Etapa de verificação "
      ]
    },
    {
      "cell_type": "code",
      "metadata": {
        "id": "zz8b2dOjtDoV",
        "colab": {
          "base_uri": "https://localhost:8080/"
        },
        "outputId": "a48e5026-2581-405c-9147-d90e9d248706"
      },
      "source": [
        "import pyspark\n",
        "print(pyspark.__version__)"
      ],
      "execution_count": 10,
      "outputs": [
        {
          "output_type": "stream",
          "text": [
            "3.1.2\n"
          ],
          "name": "stdout"
        }
      ]
    },
    {
      "cell_type": "markdown",
      "metadata": {
        "id": "ly0F0jJcuB2k"
      },
      "source": [
        "**5 - Download dos Dados **\n",
        "Etapa responsável por realizar o Download das informações de Gastos por meio de cartão de pagamento providas através da API: http://www.portaltransparencia.gov.br/api-de-dados/cartoes?pagina=1\n",
        "\n",
        "Ou\n",
        "\n",
        "CovidTracking através do: https://api.covidtracking.com/\n",
        "\n",
        "Ou\n",
        "\n",
        "Casas de Cambio:\n",
        "\n",
        "https://www3.bcb.gov.br/vet/rest/v2/listaPontoCambio?cnpj=00000000\n",
        "\n"
      ]
    },
    {
      "cell_type": "code",
      "metadata": {
        "id": "P1su3TfNuFVh",
        "colab": {
          "base_uri": "https://localhost:8080/"
        },
        "outputId": "d4605702-dde0-4aa2-8d29-a35bfe18e8ef"
      },
      "source": [
        "!curl -X GET --header 'Accept: application/json' 'https://www3.bcb.gov.br/vet/rest/v2/listaPontoCambio?cnpj=00000000' > consulta.json"
      ],
      "execution_count": 14,
      "outputs": [
        {
          "output_type": "stream",
          "text": [
            "  % Total    % Received % Xferd  Average Speed   Time    Time     Time  Current\n",
            "                                 Dload  Upload   Total   Spent    Left  Speed\n",
            "100  150k    0  150k    0     0  65030      0 --:--:--  0:00:02 --:--:-- 65002\n"
          ],
          "name": "stdout"
        }
      ]
    },
    {
      "cell_type": "markdown",
      "metadata": {
        "id": "fyfxjMmtvROc"
      },
      "source": [
        "**6 - Carregando os dados no Spark**\n",
        "\n",
        "Etapa responsável pela carga de dados no Spark."
      ]
    },
    {
      "cell_type": "code",
      "metadata": {
        "id": "kESr_0SfwDR9"
      },
      "source": [
        "#Instancia o contexto do Spark\n",
        "sc = spark.sparkContext\n",
        "#Realiza a leitura da nossa consulta realizada na API do Covid\n",
        "path = \"/content/consulta.json\"\n",
        "#Declara dataframe df com o conteudo da api que estava no JSON\n",
        "df = spark.read.json(path)"
      ],
      "execution_count": 15,
      "outputs": []
    },
    {
      "cell_type": "markdown",
      "metadata": {
        "id": "kLEJ7U5twj06"
      },
      "source": [
        "**7 - Explorando os dados que foram obtidos**\n",
        "\n",
        "Etapa de exploração dos dados."
      ]
    },
    {
      "cell_type": "code",
      "metadata": {
        "id": "cuerELhJwqQi",
        "colab": {
          "base_uri": "https://localhost:8080/"
        },
        "outputId": "b7f850cb-8984-4c68-9cc5-d80b8e0b5cd4"
      },
      "source": [
        "#Imprime a estrutura de dados do nosso dataframe\n",
        "df.printSchema()\n",
        "#Imprime uma amosta de dados ( para especificar as linhas basta colocar a quantidade entre ())\n",
        "df.show()"
      ],
      "execution_count": 16,
      "outputs": [
        {
          "output_type": "stream",
          "text": [
            "root\n",
            " |-- listaPontoCambio: array (nullable = true)\n",
            " |    |-- element: struct (containsNull = true)\n",
            " |    |    |-- cidade: string (nullable = true)\n",
            " |    |    |-- cnpj: string (nullable = true)\n",
            " |    |    |-- endereco: string (nullable = true)\n",
            " |    |    |-- horaAbreDiaUtil: string (nullable = true)\n",
            " |    |    |-- horaAbreDomingo: string (nullable = true)\n",
            " |    |    |-- horaAbreFeriado: string (nullable = true)\n",
            " |    |    |-- horaAbreSabado: string (nullable = true)\n",
            " |    |    |-- horaFechaDiaUtil: string (nullable = true)\n",
            " |    |    |-- horaFechaDomingo: string (nullable = true)\n",
            " |    |    |-- horaFechaFeriado: string (nullable = true)\n",
            " |    |    |-- horaFechaSabado: string (nullable = true)\n",
            " |    |    |-- latitude: string (nullable = true)\n",
            " |    |    |-- longitude: string (nullable = true)\n",
            " |    |    |-- nome: string (nullable = true)\n",
            " |    |    |-- somenteClientes: boolean (nullable = true)\n",
            " |    |    |-- telefone1: string (nullable = true)\n",
            " |    |    |-- telefone2: string (nullable = true)\n",
            " |    |    |-- tipoAtendimento: string (nullable = true)\n",
            " |    |    |-- tipoServico: string (nullable = true)\n",
            " |    |    |-- uf: string (nullable = true)\n",
            "\n",
            "+--------------------+\n",
            "|    listaPontoCambio|\n",
            "+--------------------+\n",
            "|[{Belém, 00000000...|\n",
            "+--------------------+\n",
            "\n"
          ],
          "name": "stdout"
        }
      ]
    },
    {
      "cell_type": "markdown",
      "metadata": {
        "id": "L312L6PcybTM"
      },
      "source": [
        "**8 - Tratando e transformando os dados**"
      ]
    },
    {
      "cell_type": "code",
      "metadata": {
        "id": "L5673enDyiXd",
        "colab": {
          "base_uri": "https://localhost:8080/"
        },
        "outputId": "9c95a7e2-6c73-4fb7-e6e0-4a535f59e251"
      },
      "source": [
        "dfPrepared = df.selectExpr(\"explode(listaPontoCambio) as lista\")\n",
        "dfPrepared = dfPrepared.selectExpr(\"replace(replace(replace(replace(replace(replace(replace(replace(replace(replace(replace(replace(replace(replace(replace(replace(replace(replace(replace(replace(replace(replace(replace(replace(replace(replace(replace(replace(replace(replace(replace(replace(replace(replace(replace(replace(replace(replace(replace(replace(replace(replace(replace(replace(replace(replace(replace(replace(replace(lista.cidade,CHAR(192),'A'),CHAR(193),'A'),CHAR(194),'A'),CHAR(195),'A'),CHAR(196),'A'),CHAR(197),'A'),CHAR(224),'a'),CHAR(225),'a'),CHAR(226),'a'),CHAR(227),'a'),CHAR(228),'a'),CHAR(229),'a'),CHAR(200),'E'),CHAR(201),'E'),CHAR(202),'E'),CHAR(203),'E'),CHAR(232),'e'),CHAR(233),'e'),CHAR(234),'e'),CHAR(235),'e'),CHAR(204),'I'),CHAR(205),'I'),CHAR(206),'I'),CHAR(207),'I'),CHAR(236),'i'),CHAR(237),'i'),CHAR(238),'i'),CHAR(239),'i'),CHAR(210),'O'),CHAR(211),'O'),CHAR(212),'O'),CHAR(213),'O'),CHAR(214),'O'),CHAR(240),'o'),CHAR(242),'o'),CHAR(243),'o'),CHAR(244),'o'),CHAR(245),'o'),CHAR(246),'o'),CHAR(217),'U'),CHAR(218),'U'),CHAR(219),'U'),CHAR(220),'U'),CHAR(249),'u'),CHAR(250),'u'),CHAR(251),'u'),CHAR(252),'u'),CHAR(199),'C'),CHAR(231),'c') as cidade\",\n",
        "        \"CAST(lista.cnpj as long) as cnpj\",\n",
        "        \"replace(replace(replace(replace(replace(replace(replace(replace(replace(replace(replace(replace(replace(replace(replace(replace(replace(replace(replace(replace(replace(replace(replace(replace(replace(replace(replace(replace(replace(replace(replace(replace(replace(replace(replace(replace(replace(replace(replace(replace(replace(replace(replace(replace(replace(replace(replace(replace(replace(lista.endereco,CHAR(192),'A'),CHAR(193),'A'),CHAR(194),'A'),CHAR(195),'A'),CHAR(196),'A'),CHAR(197),'A'),CHAR(224),'a'),CHAR(225),'a'),CHAR(226),'a'),CHAR(227),'a'),CHAR(228),'a'),CHAR(229),'a'),CHAR(200),'E'),CHAR(201),'E'),CHAR(202),'E'),CHAR(203),'E'),CHAR(232),'e'),CHAR(233),'e'),CHAR(234),'e'),CHAR(235),'e'),CHAR(204),'I'),CHAR(205),'I'),CHAR(206),'I'),CHAR(207),'I'),CHAR(236),'i'),CHAR(237),'i'),CHAR(238),'i'),CHAR(239),'i'),CHAR(210),'O'),CHAR(211),'O'),CHAR(212),'O'),CHAR(213),'O'),CHAR(214),'O'),CHAR(240),'o'),CHAR(242),'o'),CHAR(243),'o'),CHAR(244),'o'),CHAR(245),'o'),CHAR(246),'o'),CHAR(217),'U'),CHAR(218),'U'),CHAR(219),'U'),CHAR(220),'U'),CHAR(249),'u'),CHAR(250),'u'),CHAR(251),'u'),CHAR(252),'u'),CHAR(199),'C'),CHAR(231),'c') as endereco\",\n",
        "        \"lista.horaAbreDiaUtil\",\n",
        "        \"lista.horaAbreDomingo\",\n",
        "        \"lista.horaAbreFeriado\",\n",
        "        \"lista.horaAbreSabado\",\n",
        "        \"lista.horaFechaDiaUtil\", \n",
        "        \"lista.horaFechaDomingo\",\n",
        "        \"lista.horaFechaFeriado\",\n",
        "        \"lista.horaFechaSabado\",\n",
        "        \"lista.latitude\",\n",
        "        \"lista.longitude\",\n",
        "        \"replace(replace(replace(replace(replace(replace(replace(replace(replace(replace(replace(replace(replace(replace(replace(replace(replace(replace(replace(replace(replace(replace(replace(replace(replace(replace(replace(replace(replace(replace(replace(replace(replace(replace(replace(replace(replace(replace(replace(replace(replace(replace(replace(replace(replace(replace(replace(replace(replace(lista.nome,CHAR(192),'A'),CHAR(193),'A'),CHAR(194),'A'),CHAR(195),'A'),CHAR(196),'A'),CHAR(197),'A'),CHAR(224),'a'),CHAR(225),'a'),CHAR(226),'a'),CHAR(227),'a'),CHAR(228),'a'),CHAR(229),'a'),CHAR(200),'E'),CHAR(201),'E'),CHAR(202),'E'),CHAR(203),'E'),CHAR(232),'e'),CHAR(233),'e'),CHAR(234),'e'),CHAR(235),'e'),CHAR(204),'I'),CHAR(205),'I'),CHAR(206),'I'),CHAR(207),'I'),CHAR(236),'i'),CHAR(237),'i'),CHAR(238),'i'),CHAR(239),'i'),CHAR(210),'O'),CHAR(211),'O'),CHAR(212),'O'),CHAR(213),'O'),CHAR(214),'O'),CHAR(240),'o'),CHAR(242),'o'),CHAR(243),'o'),CHAR(244),'o'),CHAR(245),'o'),CHAR(246),'o'),CHAR(217),'U'),CHAR(218),'U'),CHAR(219),'U'),CHAR(220),'U'),CHAR(249),'u'),CHAR(250),'u'),CHAR(251),'u'),CHAR(252),'u'),CHAR(199),'C'),CHAR(231),'c') as nome\",\n",
        "        \"CAST(lista.somenteClientes as string) as somenteClientes\",\n",
        "        \"lista.telefone1\",\n",
        "        \"lista.telefone2\",\n",
        "        \"lista.tipoAtendimento\",\n",
        "        \"lista.tipoServico\",\n",
        "        \"lista.uf\",\n",
        "        \"CAST(0 as long) as cnpj_instituicao\",\n",
        "        \"'' as enderecoEletronico_instituicao\", \n",
        "        \"'' as nome_instituicao\")\n",
        "dfPrepared.show()"
      ],
      "execution_count": 22,
      "outputs": [
        {
          "output_type": "stream",
          "text": [
            "+--------------+----+--------------------+---------------+---------------+---------------+--------------+----------------+----------------+----------------+---------------+----------+----------+--------------------+---------------+---------------+---------+---------------+-----------+---+----------------+------------------------------+----------------+\n",
            "|        cidade|cnpj|            endereco|horaAbreDiaUtil|horaAbreDomingo|horaAbreFeriado|horaAbreSabado|horaFechaDiaUtil|horaFechaDomingo|horaFechaFeriado|horaFechaSabado|  latitude| longitude|                nome|somenteClientes|      telefone1|telefone2|tipoAtendimento|tipoServico| uf|cnpj_instituicao|enderecoEletronico_instituicao|nome_instituicao|\n",
            "+--------------+----+--------------------+---------------+---------------+---------------+--------------+----------------+----------------+----------------+---------------+----------+----------+--------------------+---------------+---------------+---------+---------------+-----------+---+----------------+------------------------------+----------------+\n",
            "|         Belem| 191|Av.Comandante Bra...|          10:00|               |               |              |           16:00|                |                |               | -1.455400|-48.490600|Banco do Brasil-a...|          false|(091) 3184-1851|         |              P|          T| PA|               0|                              |                |\n",
            "|     Sao Paulo| 191|R.Voluntarios da ...|          10:00|               |               |              |           16:00|                |                |               |-23.504463|-46.626349|Banco do Brasil-a...|          false|(011) 2104-4855|         |              P|          T| SP|               0|                              |                |\n",
            "|Rio de Janeiro| 191|R.Sen.Dantas,105,...|          10:00|               |               |              |           16:00|                |                |               |-22.908910|-43.178149|Banco do Brasil-a...|           true|(021) 3808-3900|         |              P|          T| RJ|               0|                              |                |\n",
            "|        Manaus| 191|R.Guilherme Morei...|          10:00|               |               |              |           16:00|                |                |               | -3.135501|-60.022957|Banco do Brasil-a...|           true|(092) 3621-5500|         |              P|          T| AM|               0|                              |                |\n",
            "|         Belem| 191|Av.Pres.Vargas,24...|          10:00|               |               |              |           16:00|                |                |               | -1.449700|-48.497783|Banco do Brasil-a...|           true|(091) 3216-4775|         |              P|          T| PA|               0|                              |                |\n",
            "|        Santos| 191|R.Quinze de Novem...|          10:00|               |               |              |           16:00|                |                |               |-23.932737|-46.327776|Banco do Brasil-a...|           true|(013) 4009-7455|         |              P|          T| SP|               0|                              |                |\n",
            "|        Recife| 191|Av.Rio Branco,240...|          10:00|               |               |              |           16:00|                |                |               | -8.062198|-34.873771|Banco do Brasil-a...|           true|(081) 3425-7530|         |              P|          T| PE|               0|                              |                |\n",
            "|      Curitiba| 191|Pca.Tiradentes,41...|          10:00|               |               |              |           16:00|                |                |               |-25.430403|-49.272318|Banco do Brasil-a...|           true|(041) 3321-2000|         |              P|          T| PR|               0|                              |                |\n",
            "|   Joao Pessoa| 191| Pca.1817,129,Centro|          10:00|               |               |              |           16:00|                |                |               | -7.121275|-34.883223|Banco do Brasil-a...|           true|(083) 2108-1800|         |              P|          T| PB|               0|                              |                |\n",
            "|        Maceio| 191|R.Do Livramento,1...|          10:00|               |               |              |           16:00|                |                |               | -9.665840|-35.740500|Banco do Brasil-a...|           true|(082) 3311-1240|         |              P|          T| AL|               0|                              |                |\n",
            "|       Uberaba| 191|Av.Leopoldino de ...|          10:00|               |               |              |           16:00|                |                |               |-19.748000|-47.935700|Banco do Brasil-a...|           true|(034) 3319-1900|         |              P|          T| MG|               0|                              |                |\n",
            "| Florianopolis| 191|Pca.Quinze de Nov...|          10:00|               |               |              |           16:00|                |                |               |-27.596762|-48.548980|Banco do Brasil-a...|           true|(048) 3221-1600|         |              P|          T| SC|               0|                              |                |\n",
            "|       Aracaju| 191|Pca.Gal.Valadao,3...|          10:00|               |               |              |           16:00|                |                |               |-10.909100|-37.048600|Banco do Brasil-a...|           true|(079) 3212-1000|         |              P|          T| SE|               0|                              |                |\n",
            "|     Sao Paulo| 191|R.Sao Bento,483,C...|          10:00|               |               |              |           16:00|                |                |               |-23.546538|-46.635358|Banco do Brasil-a...|           true|(011) 3491-3992|         |              P|          T| SP|               0|                              |                |\n",
            "|        Ilheus| 191|R.Marques de Para...|          10:00|               |               |              |           16:00|                |                |               |-14.798900|-39.034200|Banco do Brasil-a...|           true|(073) 3634-2813|         |              P|          T| BA|               0|                              |                |\n",
            "|      Sao Luis| 191|Av.Gomes de Castr...|          10:00|               |               |              |           16:00|                |                |               | -2.529530|-44.303000|Banco do Brasil-a...|           true|(098) 3216-3500|         |              P|          T| MA|               0|                              |                |\n",
            "|         Natal| 191|Av.Rio Branco,510...|          10:00|               |               |              |           16:00|                |                |               | -5.784199|-35.206143|Banco do Brasil-a...|           true|(084) 3216-4538|         |              P|          T| RN|               0|                              |                |\n",
            "|      Parnaiba| 191|Pca.Da Graca,340,...|          10:00|               |               |              |           16:00|                |                |               | -2.903587|-41.779999|Banco do Brasil-a...|           true|(086) 3321-2925|         |              P|          T| PI|               0|                              |                |\n",
            "|  Juiz de Fora| 191|R.Halfeld,770,Centro|          10:00|               |               |              |           16:00|                |                |               |-21.761125|-43.348723|Banco do Brasil-a...|           true|(032) 3690-5000|         |              P|          T| MG|               0|                              |                |\n",
            "|Ribeirao Preto| 191|R.Duque de Caxias...|          10:00|               |               |              |           16:00|                |                |               |-21.175600|-47.807500|Banco do Brasil-a...|           true|(016) 3323-7660|         |              P|          T| SP|               0|                              |                |\n",
            "+--------------+----+--------------------+---------------+---------------+---------------+--------------+----------------+----------------+----------------+---------------+----------+----------+--------------------+---------------+---------------+---------+---------------+-----------+---+----------------+------------------------------+----------------+\n",
            "only showing top 20 rows\n",
            "\n"
          ],
          "name": "stdout"
        }
      ]
    },
    {
      "cell_type": "markdown",
      "metadata": {
        "id": "XhP-JfBPyi3j"
      },
      "source": [
        "**9 - Analise das informações e resultados obtidos**\n",
        "\n",
        "Etapa onde são realizadas as analises utilizando linguagem SQL para por exemplo descobrir quem mais gastou no ano vigente."
      ]
    },
    {
      "cell_type": "code",
      "metadata": {
        "id": "EcIoWB3V0gmu"
      },
      "source": [
        "#Declara tabela temporaria no SparkSQL\n",
        "dfPrepared.createOrReplaceTempView(\"dfPrepared\")"
      ],
      "execution_count": 24,
      "outputs": []
    },
    {
      "cell_type": "code",
      "metadata": {
        "id": "DU6IL16T0uaZ",
        "colab": {
          "base_uri": "https://localhost:8080/"
        },
        "outputId": "8bed3674-6728-4358-bff7-bf95ecc05659"
      },
      "source": [
        "df2 = spark.sql(\"select count(*),cidade from dfPrepared group by 2 order by 1 desc\")\n",
        "df2.show()"
      ],
      "execution_count": 25,
      "outputs": [
        {
          "output_type": "stream",
          "text": [
            "+--------+-------------------+\n",
            "|count(1)|             cidade|\n",
            "+--------+-------------------+\n",
            "|      78|     Rio de Janeiro|\n",
            "|      40|          Sao Paulo|\n",
            "|      21|           Brasilia|\n",
            "|       9|          Fortaleza|\n",
            "|       7|           Campinas|\n",
            "|       7|     Belo Horizonte|\n",
            "|       7|           Salvador|\n",
            "|       6|            Vitoria|\n",
            "|       6|       Porto Alegre|\n",
            "|       5|              Natal|\n",
            "|       4|      Florianopolis|\n",
            "|       4|Sao Jose dos Campos|\n",
            "|       4|             Maceio|\n",
            "|       3|           Curitiba|\n",
            "|       3|             Santos|\n",
            "|       3|              Bauru|\n",
            "|       3|             Manaus|\n",
            "|       3|        Joao Pessoa|\n",
            "|       3|             Recife|\n",
            "|       3|              Belem|\n",
            "+--------+-------------------+\n",
            "only showing top 20 rows\n",
            "\n"
          ],
          "name": "stdout"
        }
      ]
    }
  ]
}