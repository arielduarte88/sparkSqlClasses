{
 "cells": [
  {
   "cell_type": "code",
   "execution_count": 18,
   "metadata": {},
   "outputs": [
    {
     "name": "stdout",
     "output_type": "stream",
     "text": [
      "Hello World\n",
      "Contando 0\n",
      "Contando 1\n",
      "Contando 2\n",
      "Contando 3\n",
      "Contando 4\n",
      "Contando 5\n",
      "Contando 6\n",
      "Contando 7\n",
      "Contando 8\n",
      "Contando 9\n",
      "Contando 10\n"
     ]
    }
   ],
   "source": [
    "print(\"Hello World\")\n",
    "x = 0\n",
    "while x <= 10:\n",
    "    print (\"Contando %d\" % (x))\n",
    "    x=x+1\n"
   ]
  }
 ],
 "metadata": {
  "interpreter": {
   "hash": "5dbfd558697415aff553bdce37ffa10cef4b45fe6bb8aec2bb0cb704b97b641d"
  },
  "kernelspec": {
   "display_name": "Python 3.10.1 64-bit",
   "language": "python",
   "name": "python3"
  },
  "language_info": {
   "codemirror_mode": {
    "name": "ipython",
    "version": 3
   },
   "file_extension": ".py",
   "mimetype": "text/x-python",
   "name": "python",
   "nbconvert_exporter": "python",
   "pygments_lexer": "ipython3",
   "version": "3.10.1"
  },
  "orig_nbformat": 4
 },
 "nbformat": 4,
 "nbformat_minor": 2
}
